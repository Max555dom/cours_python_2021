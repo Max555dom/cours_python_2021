{
 "cells": [
  {
   "cell_type": "code",
   "execution_count": 118,
   "metadata": {},
   "outputs": [],
   "source": [
    "def targetSomme(tab, value):\n",
    "    \n",
    "    for i in range(len(tab)) : \n",
    "        for j in range((len(tab)) - (1 + i)):\n",
    "            if (i!=j) and ((tab[i] + tab[j]) == value ):\n",
    "                result = [tab[i] , tab[j]]\n",
    "                return result\n",
    "            else:\n",
    "                result=['null','null']\n",
    "                \n",
    "    return result\n",
    "            \n",
    "    \n",
    "    "
   ]
  },
  {
   "cell_type": "code",
   "execution_count": 119,
   "metadata": {},
   "outputs": [
    {
     "data": {
      "text/plain": [
       "['null', 'null']"
      ]
     },
     "execution_count": 119,
     "metadata": {},
     "output_type": "execute_result"
    }
   ],
   "source": [
    "targetSomme([3, 5, -4, 8, 11, 1, -1, 6] , 10)"
   ]
  },
  {
   "cell_type": "code",
   "execution_count": 120,
   "metadata": {},
   "outputs": [],
   "source": [
    "def targetSom(liste, target):\n",
    "    dico = {}\n",
    "    for item in liste:\n",
    "        dico[target - item] = item\n",
    "        if(item in dico and dico[item] != item):\n",
    "            return [item, dico[item]]\n",
    "    return []\n"
   ]
  },
  {
   "cell_type": "code",
   "execution_count": 122,
   "metadata": {},
   "outputs": [
    {
     "data": {
      "text/plain": [
       "[6, -1]"
      ]
     },
     "execution_count": 122,
     "metadata": {},
     "output_type": "execute_result"
    }
   ],
   "source": [
    "targetSom([3, 5, -4, 8, 11, 1, -1, 6] , 5)"
   ]
  },
  {
   "cell_type": "code",
   "execution_count": 125,
   "metadata": {},
   "outputs": [
    {
     "name": "stdout",
     "output_type": "stream",
     "text": [
      "{3: True}\n",
      "{3: True, 5: True}\n",
      "{3: True, 5: True, -4: True}\n",
      "{3: True, 5: True, -4: True, 8: True}\n",
      "{3: True, 5: True, -4: True, 8: True, 11: True}\n",
      "{3: True, 5: True, -4: True, 8: True, 11: True, 1: True}\n"
     ]
    },
    {
     "data": {
      "text/plain": [
       "[11, -1]"
      ]
     },
     "execution_count": 125,
     "metadata": {},
     "output_type": "execute_result"
    }
   ],
   "source": [
    "def target_somme(array, targetSum):\n",
    "    #sol2 -> O(n) time | O(1) space \n",
    "    nums={}\n",
    "    for num in array:\n",
    "        tmp = targetSum - num \n",
    "        if tmp in nums:\n",
    "            return [tmp,num]\n",
    "        else: \n",
    "            nums[num] = True\n",
    "        print(nums)\n",
    "    return []\n",
    "\n",
    "\n",
    "target_somme([3, 5, -4, 8, 11, 1, -1, 6] , 10)"
   ]
  },
  {
   "cell_type": "markdown",
   "metadata": {},
   "source": [
    "La distance de Levenshtein"
   ]
  },
  {
   "cell_type": "code",
   "execution_count": 254,
   "metadata": {},
   "outputs": [],
   "source": [
    "def distance_Levenshtein(str1 ,str2):\n",
    "    \n",
    "    #Variables\n",
    "    \n",
    "    tabStr1= list(str1)\n",
    "    tabStr2= list(str2)\n",
    "    tablelevenshtein = []\n",
    "    \n",
    "    #Intialisation tableau 2 dimesion rempli de zero\n",
    "       \n",
    "    for i in range(len(tabStr1)+1):\n",
    "        tablelevenshtein.append([0] * (len(tabStr2)+1))\n",
    "        \n",
    "    #Initialisé le tableau \n",
    "    \n",
    "    for i in range(len(tabStr1 )+ 1):\n",
    "        tablelevenshtein[i][0] = i\n",
    "        \n",
    "    for j in range(1,(len(tabStr2)+ 1)):\n",
    "        tablelevenshtein[0][j] = j\n",
    "        \n",
    "    #Afficher le tableau à 2 dimension\n",
    "    \n",
    "    for row in tablelevenshtein:\n",
    "        print(' '.join([str(elem) for elem in row]))\n",
    "        \n",
    "    #Remplir le tableau \n",
    "\n",
    "    for i in range(1,len(tabStr2)+1):\n",
    "        for j in range(1,len(tabStr1)+1):\n",
    "            if(tabStr1[j-1]!=tabStr2[i-1]):\n",
    "                tablelevenshtein[i][j] = min(tablelevenshtein[i][j-1], tablelevenshtein[i-1][j],tablelevenshtein[i-1][j-1])+1\n",
    "            else:\n",
    "                tablelevenshtein[i][j] = tablelevenshtein[i-1][j-1] \n",
    "                \n",
    "                \n",
    "    for row in tablelevenshtein:\n",
    "        print(' '.join([str(elem) for elem in row]))\n",
    "    \n",
    "    "
   ]
  },
  {
   "cell_type": "code",
   "execution_count": 255,
   "metadata": {},
   "outputs": [
    {
     "name": "stdout",
     "output_type": "stream",
     "text": [
      "0 1 2 3 4 5\n",
      "1 0 0 0 0 0\n",
      "2 0 0 0 0 0\n",
      "3 0 0 0 0 0\n",
      "4 0 0 0 0 0\n",
      "5 0 0 0 0 0\n",
      "0 1 2 3 4 5\n",
      "1 1 2 3 4 4\n",
      "2 2 2 2 3 4\n",
      "3 2 3 3 3 4\n",
      "4 3 2 3 4 4\n",
      "5 4 3 3 3 4\n"
     ]
    }
   ],
   "source": [
    "distance_Levenshtein(\"chien\", \"niche\")"
   ]
  },
  {
   "cell_type": "code",
   "execution_count": 230,
   "metadata": {},
   "outputs": [
    {
     "ename": "NameError",
     "evalue": "name 'tablelevenshtein' is not defined",
     "output_type": "error",
     "traceback": [
      "\u001b[0;31m---------------------------------------------------------------------------\u001b[0m",
      "\u001b[0;31mNameError\u001b[0m                                 Traceback (most recent call last)",
      "\u001b[0;32m<ipython-input-230-5ab76cc51095>\u001b[0m in \u001b[0;36m<module>\u001b[0;34m\u001b[0m\n\u001b[0;32m----> 1\u001b[0;31m \u001b[0mtablelevenshtein\u001b[0m\u001b[0;34m\u001b[0m\u001b[0;34m\u001b[0m\u001b[0m\n\u001b[0m",
      "\u001b[0;31mNameError\u001b[0m: name 'tablelevenshtein' is not defined"
     ]
    }
   ],
   "source": []
  },
  {
   "cell_type": "code",
   "execution_count": null,
   "metadata": {},
   "outputs": [],
   "source": []
  }
 ],
 "metadata": {
  "kernelspec": {
   "display_name": "Python 3",
   "language": "python",
   "name": "python3"
  },
  "language_info": {
   "codemirror_mode": {
    "name": "ipython",
    "version": 3
   },
   "file_extension": ".py",
   "mimetype": "text/x-python",
   "name": "python",
   "nbconvert_exporter": "python",
   "pygments_lexer": "ipython3",
   "version": "3.8.5"
  }
 },
 "nbformat": 4,
 "nbformat_minor": 4
}
