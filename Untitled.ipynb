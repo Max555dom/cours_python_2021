{
 "cells": [
  {
   "cell_type": "code",
   "execution_count": 118,
   "metadata": {},
   "outputs": [],
   "source": [
    "def targetSomme(tab, value):\n",
    "    \n",
    "    for i in range(len(tab)) : \n",
    "        for j in range((len(tab)) - (1 + i)):\n",
    "            if (i!=j) and ((tab[i] + tab[j]) == value ):\n",
    "                result = [tab[i] , tab[j]]\n",
    "                return result\n",
    "            else:\n",
    "                result=['null','null']\n",
    "                \n",
    "    return result\n",
    "            \n",
    "    \n",
    "    "
   ]
  },
  {
   "cell_type": "code",
   "execution_count": 119,
   "metadata": {},
   "outputs": [
    {
     "data": {
      "text/plain": [
       "['null', 'null']"
      ]
     },
     "execution_count": 119,
     "metadata": {},
     "output_type": "execute_result"
    }
   ],
   "source": [
    "targetSomme([3, 5, -4, 8, 11, 1, -1, 6] , 10)"
   ]
  },
  {
   "cell_type": "code",
   "execution_count": 120,
   "metadata": {},
   "outputs": [],
   "source": [
    "def targetSom(liste, target):\n",
    "    dico = {}\n",
    "    for item in liste:\n",
    "        dico[target - item] = item\n",
    "        if(item in dico and dico[item] != item):\n",
    "            return [item, dico[item]]\n",
    "    return []\n"
   ]
  },
  {
   "cell_type": "code",
   "execution_count": 122,
   "metadata": {},
   "outputs": [
    {
     "data": {
      "text/plain": [
       "[6, -1]"
      ]
     },
     "execution_count": 122,
     "metadata": {},
     "output_type": "execute_result"
    }
   ],
   "source": [
    "targetSom([3, 5, -4, 8, 11, 1, -1, 6] , 5)"
   ]
  },
  {
   "cell_type": "code",
   "execution_count": 125,
   "metadata": {},
   "outputs": [
    {
     "name": "stdout",
     "output_type": "stream",
     "text": [
      "{3: True}\n",
      "{3: True, 5: True}\n",
      "{3: True, 5: True, -4: True}\n",
      "{3: True, 5: True, -4: True, 8: True}\n",
      "{3: True, 5: True, -4: True, 8: True, 11: True}\n",
      "{3: True, 5: True, -4: True, 8: True, 11: True, 1: True}\n"
     ]
    },
    {
     "data": {
      "text/plain": [
       "[11, -1]"
      ]
     },
     "execution_count": 125,
     "metadata": {},
     "output_type": "execute_result"
    }
   ],
   "source": [
    "def target_somme(array, targetSum):\n",
    "    #sol2 -> O(n) time | O(1) space \n",
    "    nums={}\n",
    "    for num in array:\n",
    "        tmp = targetSum - num \n",
    "        if tmp in nums:\n",
    "            return [tmp,num]\n",
    "        else: \n",
    "            nums[num] = True\n",
    "        print(nums)\n",
    "    return []\n",
    "\n",
    "\n",
    "target_somme([3, 5, -4, 8, 11, 1, -1, 6] , 10)"
   ]
  },
  {
   "cell_type": "markdown",
   "metadata": {},
   "source": [
    "La distance de Levenshtein"
   ]
  },
  {
   "cell_type": "code",
   "execution_count": 224,
   "metadata": {},
   "outputs": [],
   "source": [
    "def distance_Levenshtein(str1 ,str2):\n",
    "    \n",
    "    #Variables\n",
    "    \n",
    "    tabStr1= list(str1)\n",
    "    tabStr2= list(str2)\n",
    "    tablelevenshtein = []\n",
    "    \n",
    "    #Intialisation tableau 2 dimesion rempli de zero\n",
    "       \n",
    "    for i in range(len(tabStr1)+1):\n",
    "        tablelevenshtein.append([0] * (len(tabStr2)+1))\n",
    "        \n",
    "    #Initialisé le tableau \n",
    "    \n",
    "    for i in range(len(tabStr1 )+ 1):\n",
    "        tablelevenshtein[i][0] = i\n",
    "        \n",
    "    for j in range(1,(len(tabStr2)+ 1)):\n",
    "        tablelevenshtein[0][j] = j\n",
    "        \n",
    "    \n",
    "        \n",
    "    print(tablelevenshtein)"
   ]
  },
  {
   "cell_type": "code",
   "execution_count": 225,
   "metadata": {},
   "outputs": [
    {
     "name": "stdout",
     "output_type": "stream",
     "text": [
      "[[0, 1, 2, 3, 4, 5], [1, 0, 0, 0, 0, 0], [2, 0, 0, 0, 0, 0], [3, 0, 0, 0, 0, 0], [4, 0, 0, 0, 0, 0], [5, 0, 0, 0, 0, 0]]\n"
     ]
    }
   ],
   "source": [
    "distance_Levenshtein(\"chien\", \"niche\")"
   ]
  },
  {
   "cell_type": "code",
   "execution_count": null,
   "metadata": {},
   "outputs": [],
   "source": []
  },
  {
   "cell_type": "code",
   "execution_count": null,
   "metadata": {},
   "outputs": [],
   "source": []
  }
 ],
 "metadata": {
  "kernelspec": {
   "display_name": "Python 3",
   "language": "python",
   "name": "python3"
  },
  "language_info": {
   "codemirror_mode": {
    "name": "ipython",
    "version": 3
   },
   "file_extension": ".py",
   "mimetype": "text/x-python",
   "name": "python",
   "nbconvert_exporter": "python",
   "pygments_lexer": "ipython3",
   "version": "3.8.5"
  }
 },
 "nbformat": 4,
 "nbformat_minor": 4
}
